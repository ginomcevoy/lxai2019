{
 "cells": [
  {
   "cell_type": "code",
   "execution_count": null,
   "metadata": {},
   "outputs": [],
   "source": [
    "import h5py\n",
    "import numpy as np      # vectors and matrices\n",
    "import pandas as pd                              # tables and data manipulations\n",
    "\n",
    "print('hello')"
   ]
  },
  {
   "cell_type": "code",
   "execution_count": null,
   "metadata": {
    "collapsed": true
   },
   "outputs": [],
   "source": [
    "import matplotlib.pyplot as plt                  # plots\n",
    "plt.rcParams.update({'figure.figsize':(9,7), 'figure.dpi':120})\n",
    "import seaborn as sns                            # more plots\n",
    "\n",
    "from statsmodels.graphics.tsaplots import plot_acf, plot_pacf\n",
    "from statsmodels.tsa.arima_model import ARIMA"
   ]
  },
  {
   "cell_type": "code",
   "execution_count": null,
   "metadata": {
    "collapsed": true
   },
   "outputs": [],
   "source": [
    "with h5py.File('TEMPERATURE_1979-2015.hdf', 'r') as hdf:\n",
    "    # Access to the structure named 'real'\n",
    "    data = hdf['real']\n",
    "    # Extract time series with 400 points for all (lat, long).\n",
    "    first = data[0:4000,:,:]\n",
    "    print(first[:,0,0])\n",
    "    #plt.(first[:,0,0])\n",
    "    \n",
    "# Create a small sample with 200 spatial-points and 1460 elements in the time-series (corresponding to 1 year)"
   ]
  },
  {
   "cell_type": "code",
   "execution_count": null,
   "metadata": {
    "collapsed": true
   },
   "outputs": [],
   "source": [
    "# Function to create ARIMA\n",
    "# Reference: https://towardsdatascience.com/forecasting-exchange-rates-using-arima-in-python-f032f313fc56\n",
    "def StartARIMAForecasting(Actual, P, D, Q):\n",
    "\tmodel = ARIMA(Actual, order=(P, D, Q))\n",
    "\tmodel_fit = model.fit(disp=0)\n",
    "\tprediction = model_fit.forecast()[0]\n",
    "return prediction\n",
    "\n",
    "\n",
    "    "
   ]
  },
  {
   "cell_type": "code",
   "execution_count": null,
   "metadata": {
    "collapsed": true
   },
   "outputs": [],
   "source": [
    "print('hello')"
   ]
  },
  {
   "cell_type": "code",
   "execution_count": null,
   "metadata": {
    "collapsed": true
   },
   "outputs": [],
   "source": []
  }
 ],
 "metadata": {
  "kernelspec": {
   "display_name": "Python 3",
   "language": "python",
   "name": "python3"
  },
  "language_info": {
   "codemirror_mode": {
    "name": "ipython",
    "version": 3
   },
   "file_extension": ".py",
   "mimetype": "text/x-python",
   "name": "python",
   "nbconvert_exporter": "python",
   "pygments_lexer": "ipython3",
   "version": "3.6.7"
  }
 },
 "nbformat": 4,
 "nbformat_minor": 2
}
