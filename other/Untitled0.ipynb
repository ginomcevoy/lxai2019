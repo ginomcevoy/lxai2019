{
 "cells": [
  {
   "cell_type": "code",
   "execution_count": 0,
   "metadata": {
    "colab": {},
    "colab_type": "code",
    "id": "BdklzocknFI_"
   },
   "outputs": [],
   "source": [
    "from google.colab import drive\n",
    "drive.mount('drive')"
   ]
  },
  {
   "cell_type": "code",
   "execution_count": 0,
   "metadata": {
    "colab": {
     "base_uri": "https://localhost:8080/",
     "height": 34
    },
    "colab_type": "code",
    "id": "yomy3VGZnOGe",
    "outputId": "b973d09e-2db8-4a64-dbe0-6a922f1dda8b"
   },
   "outputs": [
    {
     "name": "stdout",
     "output_type": "stream",
     "text": [
      "(45260, 141, 153)\n"
     ]
    }
   ],
   "source": [
    "import h5py\n",
    "import os.path as path\n",
    "import numpy as np\n",
    "\n",
    "#Upload dataset\n",
    "DATA = 'drive/My Drive/INTELIPETRO/Tiles/TEMPERATURE_1979-2015.hdf'\n",
    "if path.exists(DATA):\n",
    "    with h5py.File(DATA) as f:\n",
    "        real = f['real'][...]\n",
    "        real = real[:45260,:,:]\n",
    "print(real.shape)\n"
   ]
  },
  {
   "cell_type": "code",
   "execution_count": 0,
   "metadata": {
    "colab": {
     "base_uri": "https://localhost:8080/",
     "height": 52
    },
    "colab_type": "code",
    "id": "GjdY1RtanYKA",
    "outputId": "b7864abd-aaa4-470d-f49a-b1e93d199918"
   },
   "outputs": [
    {
     "name": "stdout",
     "output_type": "stream",
     "text": [
      "Lag: 33\n",
      "12.90251915623949\n"
     ]
    }
   ],
   "source": [
    "from statsmodels.tsa.ar_model import AR\n",
    "from sklearn.metrics import mean_squared_error\n",
    "import numpy as np\n",
    "import h5py\n",
    "\n",
    "train, test = real[1:5836,31,24], real[5837:9000,31,24]\n",
    "# train autoregression\n",
    "model = AR(train)\n",
    "model_fit = model.fit()\n",
    "print('Lag: %s' % model_fit.k_ar)\n",
    "start = model_fit.k_ar\n",
    "#print('Coefficients: %s' % model_fit.params)\n",
    "# make predictions\n",
    "predictions = model_fit.predict(start=len(train), end=len(train)+len(test)-1, dynamic=False)\n",
    "\n",
    "print(mean_squared_error(predictions,test))"
   ]
  },
  {
   "cell_type": "code",
   "execution_count": 0,
   "metadata": {
    "colab": {},
    "colab_type": "code",
    "id": "tN7soz97oztr"
   },
   "outputs": [],
   "source": [
    "!pip install tslearn"
   ]
  },
  {
   "cell_type": "code",
   "execution_count": 0,
   "metadata": {
    "colab": {
     "base_uri": "https://localhost:8080/",
     "height": 87
    },
    "colab_type": "code",
    "id": "wm-VbXQio0eo",
    "outputId": "708d5dea-d043-489b-9a64-acdf8efff16a"
   },
   "outputs": [
    {
     "name": "stdout",
     "output_type": "stream",
     "text": [
      "(1460,)\n",
      "(1460,)\n",
      "616.0808040911052\n",
      "312.8158312161511\n"
     ]
    }
   ],
   "source": [
    "tile_1 = real[5*1460:6*1460,121,146]\n",
    "print(tile_1.shape)\n",
    "tile_2= real[0*1460:1*1460,77,32]\n",
    "print(tile_2.shape)\n",
    "tile_3 = real[5*1460:6*1460,90,120]\n",
    "\n",
    "from tslearn.metrics import dtw\n",
    "\n",
    "dtw_1_2 = dtw(tile_1,tile_2)\n",
    "print(dtw_1_2)\n",
    "\n",
    "dtw_1_3 = dtw(tile_1,tile_3)\n",
    "print(dtw_1_3)\n"
   ]
  }
 ],
 "metadata": {
  "accelerator": "GPU",
  "colab": {
   "collapsed_sections": [],
   "name": "Untitled0.ipynb",
   "provenance": []
  },
  "kernelspec": {
   "display_name": "Python 3",
   "language": "python",
   "name": "python3"
  }
 },
 "nbformat": 4,
 "nbformat_minor": 1
}
